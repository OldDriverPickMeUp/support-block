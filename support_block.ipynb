{
 "cells": [
  {
   "cell_type": "code",
   "execution_count": 14,
   "metadata": {
    "scrolled": true
   },
   "outputs": [],
   "source": [
    "import pandas as pd\n",
    "%matplotlib inline"
   ]
  },
  {
   "cell_type": "code",
   "execution_count": 38,
   "metadata": {},
   "outputs": [],
   "source": [
    "_LINEAR_WEIGHT_SLOPE = 0.3"
   ]
  },
  {
   "cell_type": "code",
   "execution_count": 39,
   "metadata": {},
   "outputs": [],
   "source": [
    "def profit_and_loss2(sc,tolerate=0.03):\n",
    "    navline=sc.copy()\n",
    "    navindex=navline.index\n",
    "    navlength=len(navline.index)\n",
    "    turning_point=[]\n",
    "\n",
    "    #给定初始状态\n",
    "    init_point=0\n",
    "    init_status=0\n",
    "    cur_high=float('-inf')\n",
    "    cur_high_point=-1\n",
    "    cur_low=float('inf')\n",
    "    cur_low_point=-1\n",
    "\n",
    "    #生成初始状态\n",
    "    tmp_cnt=0\n",
    "    for n in range(len(navindex)):\n",
    "        cur_value = navline.ix[navindex[n]]\n",
    "        if navline.ix[navindex[n]] >navline.ix[navindex[n+1]]:  #亏损状态\n",
    "            init_point=tmp_cnt+1\n",
    "            cur_low=cur_value\n",
    "            init_status=-1\n",
    "            turning_point.append((init_point,init_status))\n",
    "            break\n",
    "        elif navline.ix[navindex[n]]<navline.ix[navindex[n+1]]:\n",
    "            init_point=tmp_cnt+1\n",
    "            cur_high = cur_value\n",
    "            init_status=1\n",
    "            turning_point.append((init_point, init_status))\n",
    "            break\n",
    "        tmp_cnt+=1\n",
    "\n",
    "\n",
    "    endflag=False\n",
    "    loop_cnt=0\n",
    "    while True:\n",
    "\n",
    "        if endflag or loop_cnt>100:break\n",
    "        # 开始正式的遍历\n",
    "        tmp_cnt = init_point\n",
    "        cur_status = init_status\n",
    "        for n in navindex[init_point:]:\n",
    "            cur_value=navline[n]\n",
    "\n",
    "            if cur_status==1:   #寻找盈利区终点\n",
    "\n",
    "                if cur_value>cur_high:  # 是否产生新高点\n",
    "                    cur_high=cur_value\n",
    "                    cur_high_point=tmp_cnt\n",
    "                elif cur_value<cur_high*(1-tolerate):  #终结条件：当前点比最高点低3%以上切换状态\n",
    "                    cur_status=-1\n",
    "                    cur_high=float('-inf')\n",
    "                    turning_point.append((cur_high_point,cur_status))\n",
    "                    init_point=cur_high_point\n",
    "                    init_status=cur_status\n",
    "                    break\n",
    "\n",
    "            elif cur_status==-1:  #寻找亏损区终点\n",
    "\n",
    "                if cur_value < cur_low:\n",
    "                    cur_low = cur_value\n",
    "                    cur_low_point = tmp_cnt\n",
    "                elif cur_value > cur_low * (1 + tolerate):  # 终结条件：当前点比最高点低3%以上切换状态\n",
    "                    cur_status = 1\n",
    "                    cur_low = float('inf')\n",
    "                    turning_point.append((cur_low_point, cur_status))\n",
    "                    init_point = cur_low_point\n",
    "                    init_status = cur_status\n",
    "                    break\n",
    "\n",
    "            if n==navindex[-1]:\n",
    "                endflag=True\n",
    "            tmp_cnt += 1\n",
    "\n",
    "        loop_cnt+=1\n",
    "\n",
    "    #for n\n",
    "    #处理最后一个点\n",
    "    if turning_point[-1][0] < navlength - 1 and len(turning_point) > 1:\n",
    "        turning_point.append((navlength - 1, turning_point[-2][1]))\n",
    "\n",
    "\n",
    "\n",
    "    return turning_point\n"
   ]
  },
  {
   "cell_type": "code",
   "execution_count": 40,
   "metadata": {},
   "outputs": [],
   "source": [
    "def get_high_low_point(df):\n",
    "    toleratemax=0.1\n",
    "    toleratemin=0.021\n",
    "    tolerate=toleratemax\n",
    "    step=0.01\n",
    "    while True:\n",
    "        if tolerate<=toleratemin:\n",
    "            break\n",
    "\n",
    "        turning_points=profit_and_loss2(df,tolerate)\n",
    "        if len(turning_points)<9:\n",
    "            tolerate-=step\n",
    "        else:\n",
    "            break\n",
    "        #print tolerate\n",
    "        if tolerate<=toleratemin:\n",
    "            break\n",
    "\n",
    "    return turning_points[1:-1],tolerate"
   ]
  },
  {
   "cell_type": "code",
   "execution_count": 41,
   "metadata": {},
   "outputs": [],
   "source": [
    "def _calcline(a,b):\n",
    "    k=(b[1]-a[1])/(b[0]-a[0])\n",
    "    c=a[1]-k*a[0]\n",
    "    return k,c\n",
    "\n",
    "def _is_upper_or_on(p,line):\n",
    "    k=line[0]\n",
    "    c=line[1]\n",
    "    diff=p[1]-k*p[0]-c\n",
    "    if diff>=-0.01:\n",
    "        return True\n",
    "    else:\n",
    "        return False\n",
    "\n",
    "def _is_lower_or_on(p,line):\n",
    "    k = line[0]\n",
    "    c = line[1]\n",
    "    diff = p[1] - k * p[0] - c\n",
    "    if diff > 0.01:\n",
    "        return False\n",
    "    else:\n",
    "        return True\n",
    "\n",
    "def _calc_var(points,line):\n",
    "    k = line[0]\n",
    "    c = line[1]\n",
    "    var=0\n",
    "    for p in points:\n",
    "        diff = p[1] - k * p[0] - c\n",
    "        var += p[2] * diff**2\n",
    "    return var"
   ]
  },
  {
   "cell_type": "code",
   "execution_count": 42,
   "metadata": {},
   "outputs": [],
   "source": [
    "def get_support(support_points):\n",
    "\n",
    "    support_comb = []\n",
    "    for n in range(len(support_points)):\n",
    "        for m in range(n + 1, len(support_points)):\n",
    "            support_comb.append((n, m))\n",
    "\n",
    "    support_line = []\n",
    "    for n in support_comb:\n",
    "        tmp_point1 = support_points[n[0]]\n",
    "        tmp_point2 = support_points[n[1]]\n",
    "        line = _calcline(tmp_point1, tmp_point2)\n",
    "        tmp_judge = True\n",
    "        for m in support_points:\n",
    "            tmp_judge *= _is_upper_or_on(m, line)\n",
    "        if tmp_judge:\n",
    "            support_line.append(line)\n",
    "\n",
    "    if len(support_line)==0:\n",
    "        return None\n",
    "\n",
    "    mincnt = -1\n",
    "    minvar = float('inf')\n",
    "    for n in range(len(support_line)):\n",
    "        tmp_var = _calc_var(support_points, support_line[n])\n",
    "        #print tmp_var\n",
    "        if tmp_var < minvar:\n",
    "            minvar = tmp_var\n",
    "            mincnt = n\n",
    "\n",
    "    #print 'min', minvar,mincnt\n",
    "\n",
    "    support = support_line[mincnt]\n",
    "\n",
    "    return support\n",
    "\n",
    "def get_block(block_points):\n",
    "\n",
    "    block_comb = []\n",
    "    for n in range(len(block_points)):\n",
    "        for m in range(n + 1, len(block_points)):\n",
    "            block_comb.append((n, m))\n",
    "\n",
    "    block_line=[]\n",
    "    for n in block_comb:\n",
    "        tmp_point1=block_points[n[0]]\n",
    "        tmp_point2=block_points[n[1]]\n",
    "        line=_calcline(tmp_point1,tmp_point2)\n",
    "        tmp_judge=True\n",
    "        for m in block_points:\n",
    "            tmp_judge *=_is_lower_or_on(m,line)\n",
    "            #print _is_lower_or_on(m,line)\n",
    "        #print n,tmp_judge\n",
    "        if tmp_judge:\n",
    "            block_line.append(line)\n",
    "    #print block_comb\n",
    "    #print block_points\n",
    "\n",
    "    if len(block_line)==0:\n",
    "        return None\n",
    "\n",
    "    mincnt = -1\n",
    "    minvar = float('inf')\n",
    "    for n in range(len(block_line)):\n",
    "        tmp_var = _calc_var(block_points, block_line[n])\n",
    "\n",
    "        if tmp_var < minvar:\n",
    "            minvar = tmp_var\n",
    "            mincnt = n\n",
    "\n",
    "\n",
    "    block = block_line[mincnt]\n",
    "\n",
    "    return block"
   ]
  },
  {
   "cell_type": "code",
   "execution_count": 43,
   "metadata": {},
   "outputs": [],
   "source": [
    "def _split_days(high,low,drawdays,extenddays):\n",
    "    \"\"\"输出计算区，延长区\"\"\"\n",
    "    assert len(high)>=drawdays+extenddays\n",
    "    extend_sc = high.iloc[-extenddays:]\n",
    "    high_sc = high.iloc[-extenddays-drawdays:-extenddays]\n",
    "    low_sc = low.iloc[-extenddays-drawdays:-extenddays]\n",
    "\n",
    "    return high_sc,low_sc,extend_sc,len(high_sc)\n",
    "\n",
    "def _split_date(high,low,startdate,enddate,extenddays,minbars=20):\n",
    "    \"\"\"最小计算bar，20天\"\"\"\n",
    "    #extend_sc = HIGH.ix[enddate:].iloc[:extend_days]\n",
    "    high_sc = high.ix[startdate:enddate]\n",
    "    assert len(high_sc)>=minbars\n",
    "    low_sc = low.ix[startdate:enddate]\n",
    "    rest_sc = high.ix[enddate:]\n",
    "    if enddate==rest_sc.index[0]:\n",
    "        if len(rest_sc)<=extenddays+1:\n",
    "            extend_sc=rest_sc.iloc[1:]\n",
    "        else:\n",
    "            extend_sc=rest_sc.iloc[1:1+extenddays]\n",
    "    else:\n",
    "        if len(rest_sc)<=extenddays:\n",
    "            extend_sc=rest_sc\n",
    "        else:\n",
    "            extend_sc=rest_sc.iloc[:extenddays]\n",
    "\n",
    "    return high_sc,low_sc,extend_sc,len(high_sc)"
   ]
  },
  {
   "cell_type": "code",
   "execution_count": 44,
   "metadata": {},
   "outputs": [],
   "source": [
    "def _get_weight_method(method_name):\n",
    "    if method_name=='no':\n",
    "        return lambda x:1.\n",
    "    elif method_name=='linear_new_first':\n",
    "        return lambda x:_LINEAR_WEIGHT_SLOPE*x"
   ]
  },
  {
   "cell_type": "code",
   "execution_count": 52,
   "metadata": {},
   "outputs": [],
   "source": [
    "def support_block(indf,split_type,split_paras,method_name='no'):\n",
    "\n",
    "    \"\"\"\n",
    "        重新规划下计算参数\n",
    "    \"\"\"\n",
    "\n",
    "    high = indf['high']\n",
    "    low = indf['low']\n",
    "\n",
    "    try:\n",
    "        if split_type=='days':\n",
    "            high_sc,low_sc, extend_sc, extend_start = _split_days(high,low,split_paras['drawdays'],split_paras['extenddays'])\n",
    "        elif split_type=='date':\n",
    "            high_sc,low_sc, extend_sc, extend_start = _split_date(high,low,split_paras['startdate'],split_paras['enddate'],\n",
    "                                                            split_paras['extenddays'])\n",
    "    except AssertionError:\n",
    "        return pd.DataFrame(),\n",
    "\n",
    "    turning_points_high, tolerate = get_high_low_point(high_sc)\n",
    "    turning_points_low, tolerate = get_high_low_point(low_sc)\n",
    "\n",
    "    # 添加权重\n",
    "    weight_func = _get_weight_method(method_name)\n",
    "\n",
    "    support_points = []\n",
    "    for n in turning_points_low:\n",
    "        tmp_y = low_sc.iloc[n[0]]\n",
    "        if n[1] == 1:\n",
    "            support_points.append((n[0], tmp_y, weight_func(n[0])))\n",
    "\n",
    "    block_points = []\n",
    "    for n in turning_points_high:\n",
    "        tmp_y = high_sc.iloc[n[0]]\n",
    "        if n[1] == -1:\n",
    "            block_points.append((n[0], tmp_y,weight_func(n[0])))\n",
    "\n",
    "    block_line=get_block(block_points)\n",
    "    if not block_line:\n",
    "        block_line = (0,high_sc.max())\n",
    "    support_line=get_support(support_points)\n",
    "    if not support_line:\n",
    "        support_line = (0, low_sc.min())\n",
    "\n",
    "    df = pd.DataFrame()\n",
    "\n",
    "    df['high'] = high_sc\n",
    "    df['x'] = range(len(high_sc))\n",
    "    df['block'] = df['x'] * block_line[0] + block_line[1]\n",
    "    df['support'] = df['x'] * support_line[0] + support_line[1]\n",
    "    df = df.drop('x', axis=1)\n",
    "\n",
    "    extend_df = pd.DataFrame()\n",
    "    extend_df['high'] = extend_sc\n",
    "    extend_df['x'] = range(extend_start,extend_start+len(extend_sc))\n",
    "    #extend_df['block_extend'] = extend_df['x']*block_line[0] + block_line[1]\n",
    "    #extend_df['support_extend'] = extend_df['x'] * support_line[0] + support_line[1]\n",
    "\n",
    "    extend_df['block'] = extend_df['x'] * block_line[0] + block_line[1]\n",
    "    extend_df['support'] = extend_df['x'] * support_line[0] + support_line[1]\n",
    "\n",
    "    extend_df=extend_df.drop('x',axis=1)\n",
    "\n",
    "    return df.combine_first(extend_df).drop('high',axis=1).dropna(how='all')\n"
   ]
  },
  {
   "cell_type": "code",
   "execution_count": 46,
   "metadata": {},
   "outputs": [],
   "source": [
    "SUPPORT_BLOCK_WEIGHT_METHOD = 'linear_new_first'\n",
    "\n",
    "SUPPORT_BLOCK_DRAWDAYS = 60\n",
    "\n",
    "SUPPORT_BLOCK_EXTENDDAYS = 1"
   ]
  },
  {
   "cell_type": "code",
   "execution_count": 17,
   "metadata": {},
   "outputs": [],
   "source": [
    "import os\n"
   ]
  },
  {
   "cell_type": "code",
   "execution_count": 19,
   "metadata": {
    "scrolled": true
   },
   "outputs": [
    {
     "data": {
      "text/plain": [
       "['000004.SZ_20200701_20201124.hdf', '000001.SZ_20200701_20201124.hdf']"
      ]
     },
     "execution_count": 19,
     "metadata": {},
     "output_type": "execute_result"
    }
   ],
   "source": [
    "os.listdir('cache_data/')"
   ]
  },
  {
   "cell_type": "code",
   "execution_count": 20,
   "metadata": {},
   "outputs": [],
   "source": [
    "df = pd.read_hdf('cache_data/000004.SZ_20200701_20201124.hdf','data')"
   ]
  },
  {
   "cell_type": "code",
   "execution_count": 23,
   "metadata": {
    "scrolled": false
   },
   "outputs": [
    {
     "data": {
      "text/html": [
       "<div>\n",
       "<style scoped>\n",
       "    .dataframe tbody tr th:only-of-type {\n",
       "        vertical-align: middle;\n",
       "    }\n",
       "\n",
       "    .dataframe tbody tr th {\n",
       "        vertical-align: top;\n",
       "    }\n",
       "\n",
       "    .dataframe thead th {\n",
       "        text-align: right;\n",
       "    }\n",
       "</style>\n",
       "<table border=\"1\" class=\"dataframe\">\n",
       "  <thead>\n",
       "    <tr style=\"text-align: right;\">\n",
       "      <th></th>\n",
       "      <th>open</th>\n",
       "      <th>high</th>\n",
       "      <th>low</th>\n",
       "      <th>close</th>\n",
       "    </tr>\n",
       "    <tr>\n",
       "      <th>trade_date</th>\n",
       "      <th></th>\n",
       "      <th></th>\n",
       "      <th></th>\n",
       "      <th></th>\n",
       "    </tr>\n",
       "  </thead>\n",
       "  <tbody>\n",
       "    <tr>\n",
       "      <th>20201124</th>\n",
       "      <td>30.77</td>\n",
       "      <td>31.19</td>\n",
       "      <td>29.62</td>\n",
       "      <td>30.17</td>\n",
       "    </tr>\n",
       "    <tr>\n",
       "      <th>20201123</th>\n",
       "      <td>32.35</td>\n",
       "      <td>32.35</td>\n",
       "      <td>29.99</td>\n",
       "      <td>31.21</td>\n",
       "    </tr>\n",
       "    <tr>\n",
       "      <th>20201120</th>\n",
       "      <td>32.42</td>\n",
       "      <td>33.33</td>\n",
       "      <td>30.55</td>\n",
       "      <td>31.46</td>\n",
       "    </tr>\n",
       "    <tr>\n",
       "      <th>20201119</th>\n",
       "      <td>30.00</td>\n",
       "      <td>32.62</td>\n",
       "      <td>29.40</td>\n",
       "      <td>32.62</td>\n",
       "    </tr>\n",
       "    <tr>\n",
       "      <th>20201118</th>\n",
       "      <td>28.36</td>\n",
       "      <td>30.15</td>\n",
       "      <td>28.28</td>\n",
       "      <td>29.65</td>\n",
       "    </tr>\n",
       "    <tr>\n",
       "      <th>...</th>\n",
       "      <td>...</td>\n",
       "      <td>...</td>\n",
       "      <td>...</td>\n",
       "      <td>...</td>\n",
       "    </tr>\n",
       "    <tr>\n",
       "      <th>20200707</th>\n",
       "      <td>31.00</td>\n",
       "      <td>31.69</td>\n",
       "      <td>30.10</td>\n",
       "      <td>31.25</td>\n",
       "    </tr>\n",
       "    <tr>\n",
       "      <th>20200706</th>\n",
       "      <td>28.46</td>\n",
       "      <td>31.28</td>\n",
       "      <td>28.40</td>\n",
       "      <td>30.47</td>\n",
       "    </tr>\n",
       "    <tr>\n",
       "      <th>20200703</th>\n",
       "      <td>29.45</td>\n",
       "      <td>29.49</td>\n",
       "      <td>28.38</td>\n",
       "      <td>28.46</td>\n",
       "    </tr>\n",
       "    <tr>\n",
       "      <th>20200702</th>\n",
       "      <td>30.28</td>\n",
       "      <td>30.28</td>\n",
       "      <td>28.70</td>\n",
       "      <td>29.45</td>\n",
       "    </tr>\n",
       "    <tr>\n",
       "      <th>20200701</th>\n",
       "      <td>29.80</td>\n",
       "      <td>30.82</td>\n",
       "      <td>29.60</td>\n",
       "      <td>30.20</td>\n",
       "    </tr>\n",
       "  </tbody>\n",
       "</table>\n",
       "<p>99 rows × 4 columns</p>\n",
       "</div>"
      ],
      "text/plain": [
       "             open   high    low  close\n",
       "trade_date                            \n",
       "20201124    30.77  31.19  29.62  30.17\n",
       "20201123    32.35  32.35  29.99  31.21\n",
       "20201120    32.42  33.33  30.55  31.46\n",
       "20201119    30.00  32.62  29.40  32.62\n",
       "20201118    28.36  30.15  28.28  29.65\n",
       "...           ...    ...    ...    ...\n",
       "20200707    31.00  31.69  30.10  31.25\n",
       "20200706    28.46  31.28  28.40  30.47\n",
       "20200703    29.45  29.49  28.38  28.46\n",
       "20200702    30.28  30.28  28.70  29.45\n",
       "20200701    29.80  30.82  29.60  30.20\n",
       "\n",
       "[99 rows x 4 columns]"
      ]
     },
     "execution_count": 23,
     "metadata": {},
     "output_type": "execute_result"
    }
   ],
   "source": [
    "df"
   ]
  },
  {
   "cell_type": "code",
   "execution_count": 22,
   "metadata": {},
   "outputs": [],
   "source": [
    "df=df[['trade_date','open','high','low','close']]\n",
    "df.set_index('trade_date',inplace=True)\n"
   ]
  },
  {
   "cell_type": "code",
   "execution_count": 25,
   "metadata": {},
   "outputs": [
    {
     "name": "stderr",
     "output_type": "stream",
     "text": [
      "/Users/essex/.pyenv/versions/3.7.4/lib/python3.7/site-packages/ipykernel_launcher.py:1: SettingWithCopyWarning: \n",
      "A value is trying to be set on a copy of a slice from a DataFrame\n",
      "\n",
      "See the caveats in the documentation: http://pandas.pydata.org/pandas-docs/stable/user_guide/indexing.html#returning-a-view-versus-a-copy\n",
      "  \"\"\"Entry point for launching an IPython kernel.\n"
     ]
    }
   ],
   "source": [
    "df.sort_index(inplace=True)"
   ]
  },
  {
   "cell_type": "code",
   "execution_count": 57,
   "metadata": {
    "scrolled": true
   },
   "outputs": [
    {
     "name": "stderr",
     "output_type": "stream",
     "text": [
      "/Users/essex/.pyenv/versions/3.7.4/lib/python3.7/site-packages/ipykernel_launcher.py:18: FutureWarning: \n",
      ".ix is deprecated. Please use\n",
      ".loc for label based indexing or\n",
      ".iloc for positional indexing\n",
      "\n",
      "See the documentation here:\n",
      "http://pandas.pydata.org/pandas-docs/stable/user_guide/indexing.html#ix-indexer-is-deprecated\n",
      "/Users/essex/.pyenv/versions/3.7.4/lib/python3.7/site-packages/ipykernel_launcher.py:19: FutureWarning: \n",
      ".ix is deprecated. Please use\n",
      ".loc for label based indexing or\n",
      ".iloc for positional indexing\n",
      "\n",
      "See the documentation here:\n",
      "http://pandas.pydata.org/pandas-docs/stable/user_guide/indexing.html#ix-indexer-is-deprecated\n"
     ]
    }
   ],
   "source": [
    "drawdays=40\n",
    "r=support_block(df,'days',{'drawdays': drawdays,\n",
    "                                            'extenddays': SUPPORT_BLOCK_EXTENDDAYS},\n",
    "                                    SUPPORT_BLOCK_WEIGHT_METHOD)"
   ]
  },
  {
   "cell_type": "code",
   "execution_count": 60,
   "metadata": {
    "scrolled": true
   },
   "outputs": [
    {
     "name": "stderr",
     "output_type": "stream",
     "text": [
      "/Users/essex/.pyenv/versions/3.7.4/lib/python3.7/site-packages/ipykernel_launcher.py:1: FutureWarning: Sorting because non-concatenation axis is not aligned. A future version\n",
      "of pandas will change to not sort by default.\n",
      "\n",
      "To accept the future behavior, pass 'sort=False'.\n",
      "\n",
      "To retain the current behavior and silence the warning, pass 'sort=True'.\n",
      "\n",
      "  \"\"\"Entry point for launching an IPython kernel.\n"
     ]
    }
   ],
   "source": [
    "x=pd.concat([df,r])"
   ]
  },
  {
   "cell_type": "code",
   "execution_count": 51,
   "metadata": {},
   "outputs": [
    {
     "data": {
      "text/plain": [
       "pandas.core.frame.DataFrame"
      ]
     },
     "execution_count": 51,
     "metadata": {},
     "output_type": "execute_result"
    }
   ],
   "source": [
    "x.pl"
   ]
  },
  {
   "cell_type": "code",
   "execution_count": null,
   "metadata": {},
   "outputs": [],
   "source": []
  }
 ],
 "metadata": {
  "kernelspec": {
   "display_name": "Python 3",
   "language": "python",
   "name": "python3"
  },
  "language_info": {
   "codemirror_mode": {
    "name": "ipython",
    "version": 3
   },
   "file_extension": ".py",
   "mimetype": "text/x-python",
   "name": "python",
   "nbconvert_exporter": "python",
   "pygments_lexer": "ipython3",
   "version": "3.7.4"
  }
 },
 "nbformat": 4,
 "nbformat_minor": 2
}
